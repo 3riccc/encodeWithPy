{
 "cells": [
  {
   "cell_type": "code",
   "execution_count": 105,
   "metadata": {
    "collapsed": false
   },
   "outputs": [],
   "source": [
    "# 这些代码产生和存储对照表，已经完成了他们的作用，不会再被用到\n",
    "# import random\n",
    "# def createContrast():\n",
    "#     theList = []\n",
    "#     for i in range(128):\n",
    "#         str = \"\"\n",
    "#         for j in range(3):\n",
    "#             str += chr(random.randint(97, 122))\n",
    "#         theList.append(str)\n",
    "#     return theList\n",
    "# conList = {'before':1,'after':1}\n",
    "# conList['before'] = createContrast()\n",
    "# conList['after'] = createContrast()\n",
    "# with open('save/contrast.pickle','wb') as f:\n",
    "#     pickle.dump(conList,f)\n",
    "\n",
    "\n",
    "# 拿到对照表\n",
    "import pickle\n",
    "with open('save/contrast.pickle','rb') as f:\n",
    "    conList = pickle.load(f)\n",
    "    \n",
    "\n",
    "\n",
    "# 加密函数\n",
    "def en(key,message):\n",
    "    secret = []\n",
    "    # 如果密钥长度大于等于明文\n",
    "    if len(key)>=len(message):\n",
    "        newKey = key[0:len(message)]\n",
    "    # 如果密钥长度小于明文\n",
    "    else:\n",
    "        newKey = []\n",
    "        for i in range(len(message)):\n",
    "            newKey.append(key[i%len(key)])\n",
    "        newKey = ''.join(newKey)\n",
    "    for j in range(len(message)):\n",
    "        # 字符加密\n",
    "        secret.append(enLetter(newKey[j],message[j]))\n",
    "    return ''.join(secret)\n",
    "\n",
    "\n",
    "# 解密函数\n",
    "def de(key,secret):\n",
    "    newSecret = []\n",
    "    # 拆分三个\n",
    "    if(len(secret) % 3 == 0):\n",
    "        # 拆成数组\n",
    "        for i in range(0,len(secret),3):\n",
    "            newSecret.append(''+secret[i]+secret[i+1]+secret[i+2])\n",
    "        # 如果密钥长度大于密文长度\n",
    "        if len(key) >= len(newSecret):\n",
    "            newKey = key[0:len(newSecret)]\n",
    "        else:\n",
    "            newKey = []\n",
    "            for m in range(len(newSecret)):\n",
    "                newKey.append(key[m%len(key)])\n",
    "        \n",
    "        message = []\n",
    "        for j in range(len(newSecret)):\n",
    "            message.append(deLetter(newSecret[j],newKey[j]))\n",
    "        return ''.join(message)\n",
    "    # 无法拆分的情况\n",
    "    else:\n",
    "        return ''"
   ]
  },
  {
   "cell_type": "code",
   "execution_count": 106,
   "metadata": {
    "collapsed": false
   },
   "outputs": [],
   "source": [
    "# 针对单个字母的加密\n",
    "def enLetter(a,b):\n",
    "    c = ord(a)+ord(b)\n",
    "    if c >= 128:\n",
    "        c = c - 128\n",
    "    return conList['after'][c]\n",
    "# 针对单个字符串的解密\n",
    "def deLetter(str,b):\n",
    "    if str in conList['after']:\n",
    "        c = conList['after'].index(str)\n",
    "        a = c - ord(b)\n",
    "        if a < 0:\n",
    "            a = a + 128\n",
    "        return chr(a)"
   ]
  },
  {
   "cell_type": "code",
   "execution_count": null,
   "metadata": {
    "collapsed": false
   },
   "outputs": [],
   "source": []
  },
  {
   "cell_type": "code",
   "execution_count": 107,
   "metadata": {
    "collapsed": false
   },
   "outputs": [
    {
     "name": "stdout",
     "output_type": "stream",
     "text": [
      "kobplepleprtziaplezysvwj\n"
     ]
    }
   ],
   "source": [
    "strA = en('this is a very long key this is a very long key','%$#@)#$%')\n",
    "print strA"
   ]
  },
  {
   "cell_type": "code",
   "execution_count": 108,
   "metadata": {
    "collapsed": false
   },
   "outputs": [],
   "source": [
    "strB = de('this is a very long key this is a very long key',strA)"
   ]
  },
  {
   "cell_type": "code",
   "execution_count": 109,
   "metadata": {
    "collapsed": false
   },
   "outputs": [
    {
     "name": "stdout",
     "output_type": "stream",
     "text": [
      "%$#@)#$%\n"
     ]
    }
   ],
   "source": [
    "print strB"
   ]
  },
  {
   "cell_type": "code",
   "execution_count": null,
   "metadata": {
    "collapsed": true
   },
   "outputs": [],
   "source": []
  },
  {
   "cell_type": "code",
   "execution_count": null,
   "metadata": {
    "collapsed": true
   },
   "outputs": [],
   "source": []
  },
  {
   "cell_type": "code",
   "execution_count": null,
   "metadata": {
    "collapsed": true
   },
   "outputs": [],
   "source": []
  },
  {
   "cell_type": "code",
   "execution_count": null,
   "metadata": {
    "collapsed": true
   },
   "outputs": [],
   "source": []
  },
  {
   "cell_type": "code",
   "execution_count": null,
   "metadata": {
    "collapsed": true
   },
   "outputs": [],
   "source": []
  }
 ],
 "metadata": {
  "anaconda-cloud": {},
  "kernelspec": {
   "display_name": "Python [Root]",
   "language": "python",
   "name": "Python [Root]"
  },
  "language_info": {
   "codemirror_mode": {
    "name": "ipython",
    "version": 2
   },
   "file_extension": ".py",
   "mimetype": "text/x-python",
   "name": "python",
   "nbconvert_exporter": "python",
   "pygments_lexer": "ipython2",
   "version": "2.7.12"
  }
 },
 "nbformat": 4,
 "nbformat_minor": 0
}
